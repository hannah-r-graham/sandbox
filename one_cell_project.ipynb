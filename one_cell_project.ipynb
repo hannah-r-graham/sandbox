{
 "cells": [
  {
   "cell_type": "code",
   "execution_count": null,
   "source": [
    "import pandas as pd\n",
    "df=pd.read_csv('kc_house_data.csv')\n",
    "df['date'] = pd.to_datetime(df.date)\n",
    "df['bedrooms'] = df[['bedrooms','sqft_living']].apply(lambda x: 3 if (x.sqft_living > 1000)&(x.bedrooms==0) else x.bedrooms, axis=1)\n",
    "from scipy.stats import boxcox\n",
    "import numpy as np\n",
    "df['log_living']= np.log(df['sqft_living'])\n",
    "df.log_living.skew()\n",
    "df['log_lot']= np.log(df['sqft_lot'])\n",
    "df.log_lot.skew()\n",
    "from scipy.stats import boxcox\n",
    "df['boxcox_lot']= boxcox(df.sqft_lot)[0]\n",
    "df.boxcox_lot.skew()\n",
    "df['lot/inside']= df['sqft_lot']/df['sqft_living']\n",
    "df['base/upper']= df['sqft_basement']/df['sqft_living']\n",
    "df['sqft_liv/15']= df['sqft_living']/df['sqft_living15']\n",
    "df['sqft_LOT/15']= df['sqft_lot']/df['sqft_lot15']\n",
    "from datetime import date\n",
    "today = date.today() \n",
    "df['remodel_age']= df['yr_renovated'].apply(lambda x: today.year - x if (x > 0) else 0)\n",
    "from scipy import stats\n",
    "linear_regression=stats.linregress(df['sqft_living'], df['price'])\n",
    "linear_regression\n",
    "def price_call(sqft_living):\n",
    "    price=sqft_living * linear_regression.slope + linear_regression.intercept\n",
    "    return price\n",
    "df['predicted_price'] = price_call(df['sqft_living'])\n",
    "import numpy as py\n",
    "from sklearn.linear_model import LinearRegression\n",
    "l = LinearRegression()\n",
    "x = df[['remodel_age','zipcode','log_living', 'grade', 'sqft_above','boxcox_lot', 'sqft_living15', 'bathrooms', 'view', 'sqft_basement','bedrooms', 'sqft_liv/15']]\n",
    "\n",
    "y = df[['price']]\n",
    "x2 = pd.merge(x, zipcode, left_index=True, right_index=True)\n",
    "x2.drop('zipcode', axis=1, inplace=True)\n",
    "zipcode = pd.get_dummies(x.zipcode)\n",
    "l.fit(x2,y)\n",
    "df['predict_price'] = l.predict(x2)\n",
    "df['diff2']= df.price-df.predict_price\n",
    "df['square_diff2'] = py.square(df['diff2'])\n",
    "sum2=sum(df.square_diff2)\n",
    "sum2\n",
    "py.sqrt(sum2/len(df.square_diff2))\n",
    "from sklearn.metrics import mean_squared_error\n",
    "pred = l.predict(x2)\n",
    "py.sqrt(mean_squared_error(df['price'], pred))\n"
   ],
   "outputs": [],
   "metadata": {}
  }
 ],
 "metadata": {
  "orig_nbformat": 4,
  "language_info": {
   "name": "python"
  }
 },
 "nbformat": 4,
 "nbformat_minor": 2
}